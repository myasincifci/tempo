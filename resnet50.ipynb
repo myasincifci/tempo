{
 "cells": [
  {
   "cell_type": "code",
   "execution_count": 1,
   "metadata": {},
   "outputs": [],
   "source": [
    "import torch\n",
    "from torch import nn\n",
    "from torchvision.models import resnet50, ResNet50_Weights\n",
    "\n",
    "from lightly.models.modules import BarlowTwinsProjectionHead"
   ]
  },
  {
   "cell_type": "code",
   "execution_count": 2,
   "metadata": {},
   "outputs": [],
   "source": [
    "class Tempo50(nn.Module):\n",
    "    def __init__(self, state_dict):\n",
    "        super(Tempo50, self).__init__()\n",
    "        self.backbone: nn. Module = resnet50()\n",
    "        missing, unexpected = self.backbone.load_state_dict(state_dict)\n",
    "        self.backbone.fc = nn.Identity()\n",
    "        # TODO: add assert for loading state dict\n",
    "        self.projection_head = BarlowTwinsProjectionHead(\n",
    "            input_dim=2048, \n",
    "            hidden_dim=1024, \n",
    "            output_dim=1024\n",
    "        )\n",
    "\n",
    "    def forward(self, x):\n",
    "        x = self.backbone(x)\n",
    "        x = self.projection_head(x)\n",
    "        return x"
   ]
  },
  {
   "cell_type": "code",
   "execution_count": 3,
   "metadata": {},
   "outputs": [],
   "source": [
    "imagenet_1k_state_dict = ResNet50_Weights.IMAGENET1K_V1.get_state_dict(True)"
   ]
  },
  {
   "cell_type": "markdown",
   "metadata": {},
   "source": [
    "## Train Tempo"
   ]
  },
  {
   "cell_type": "code",
   "execution_count": 4,
   "metadata": {},
   "outputs": [],
   "source": [
    "from tqdm import tqdm\n",
    "import matplotlib.pyplot as plt\n",
    "import numpy as np\n",
    "\n",
    "from torch.utils.data import DataLoader\n",
    "from torchvision import transforms as T\n",
    "from lightly.loss import BarlowTwinsLoss\n",
    "\n",
    "from tempo.data.datasets import video_dataset, finetune_dataset"
   ]
  },
  {
   "cell_type": "code",
   "execution_count": 5,
   "metadata": {},
   "outputs": [
    {
     "name": "stdout",
     "output_type": "stream",
     "text": [
      "Using device: cuda.\n"
     ]
    }
   ],
   "source": [
    "# Use GPU if availabel\n",
    "device = \"cuda\" if torch.cuda.is_available() else \"cpu\"\n",
    "print(f'Using device: {device}.')"
   ]
  },
  {
   "cell_type": "code",
   "execution_count": 6,
   "metadata": {},
   "outputs": [],
   "source": [
    "model = Tempo50(imagenet_1k_state_dict).to(device)"
   ]
  },
  {
   "cell_type": "code",
   "execution_count": 7,
   "metadata": {},
   "outputs": [],
   "source": [
    "def train_one_epoch(model, dataloader, criterion, optimizer, device):\n",
    "    losses = []\n",
    "    for image, image_d, _, _ in tqdm(dataloader):\n",
    "        image = image.to(device)\n",
    "        image_d = image_d.to(device)\n",
    "        \n",
    "        z0 = model(image)\n",
    "        z1 = model(image_d)\n",
    "        loss = criterion(z0, z1)\n",
    "        losses.append(loss.detach())\n",
    "        loss.backward()\n",
    "        optimizer.step()\n",
    "        optimizer.zero_grad()\n",
    "    \n",
    "    avg_loss = torch.tensor(losses).mean()\n",
    "    return avg_loss"
   ]
  },
  {
   "cell_type": "code",
   "execution_count": 8,
   "metadata": {},
   "outputs": [],
   "source": [
    "# Load datasets\n",
    "train_loader = video_dataset(proximity=30)\n",
    "train_loader_ft = finetune_dataset(name='ASL-big', train=True, batch_size=10)\n",
    "test_loader_ft = finetune_dataset(train=False, batch_size=10)"
   ]
  },
  {
   "cell_type": "code",
   "execution_count": 9,
   "metadata": {},
   "outputs": [
    {
     "name": "stderr",
     "output_type": "stream",
     "text": [
      "100%|██████████| 46/46 [00:17<00:00,  2.64it/s]\n",
      "100%|██████████| 46/46 [00:16<00:00,  2.75it/s]\n",
      "100%|██████████| 46/46 [00:16<00:00,  2.78it/s]\n",
      "100%|██████████| 46/46 [00:16<00:00,  2.77it/s]\n",
      "100%|██████████| 46/46 [00:16<00:00,  2.77it/s]\n",
      "100%|██████████| 46/46 [00:16<00:00,  2.77it/s]\n",
      "100%|██████████| 46/46 [00:16<00:00,  2.74it/s]\n",
      "100%|██████████| 46/46 [00:16<00:00,  2.77it/s]\n",
      "100%|██████████| 46/46 [00:16<00:00,  2.74it/s]\n",
      "100%|██████████| 46/46 [00:16<00:00,  2.75it/s]\n"
     ]
    }
   ],
   "source": [
    "criterion = BarlowTwinsLoss(lambda_param=1e-3)\n",
    "optimizer = torch.optim.SGD(model.parameters(), lr=1e-3, weight_decay=0.001)\n",
    "\n",
    "for epoch in range(10):\n",
    "    train_one_epoch(model, train_loader, criterion, optimizer, device)"
   ]
  },
  {
   "cell_type": "markdown",
   "metadata": {},
   "source": [
    "## Linear Eval"
   ]
  },
  {
   "cell_type": "code",
   "execution_count": 10,
   "metadata": {},
   "outputs": [
    {
     "data": {
      "text/plain": [
       "Identity()"
      ]
     },
     "execution_count": 10,
     "metadata": {},
     "output_type": "execute_result"
    }
   ],
   "source": [
    "model.backbone.fc"
   ]
  },
  {
   "cell_type": "code",
   "execution_count": 11,
   "metadata": {},
   "outputs": [],
   "source": [
    "def test_model_fast(model, test_reps, test_dataset, device):\n",
    "\n",
    "    model.eval()\n",
    "\n",
    "    wrongly_classified = 0\n",
    "    for repr, label in test_reps:\n",
    "        total = repr.shape[0]\n",
    "\n",
    "        inputs, labels = repr.to(device), label.to(device)\n",
    "\n",
    "        with torch.no_grad():\n",
    "            preds = model(inputs).argmax(dim=1)\n",
    "\n",
    "        wrong = (total - (preds == labels).sum()).item()\n",
    "        wrongly_classified += wrong\n",
    "\n",
    "    model.train()\n",
    "\n",
    "    return 1.0 - (wrongly_classified / len(test_dataset))"
   ]
  },
  {
   "cell_type": "code",
   "execution_count": 12,
   "metadata": {},
   "outputs": [],
   "source": [
    "def linear_eval_new(iterations, model, train_loader, test_loader, device):\n",
    "\n",
    "    reps = []\n",
    "    test_reps = []\n",
    "    with torch.no_grad():\n",
    "        for input, label in train_loader:\n",
    "            repr = model(input.to(device)).detach()\n",
    "            repr = torch.flatten(repr, start_dim=1)\n",
    "            reps.append((repr, label.to(device)))\n",
    "\n",
    "        for input, label in test_loader:\n",
    "            repr = model(input.to(device)).detach()\n",
    "            repr = torch.flatten(repr, start_dim=1)\n",
    "            test_reps.append((repr, label.to(device)))\n",
    "\n",
    "    model.fc = nn.Linear(in_features=2048, out_features=24, bias=True).to(\n",
    "    device)  # Fresh detection head\n",
    "\n",
    "    criterion = nn.CrossEntropyLoss().cuda()\n",
    "    optimizer = torch.optim.SGD(model.fc.parameters(), lr=0.01, weight_decay=0.0001)\n",
    "\n",
    "    losses, errors, iters_ = [], [], []\n",
    "    i = 0\n",
    "    every = 1\n",
    "    running_loss = 0.0\n",
    "    b1 = False\n",
    "    while True:\n",
    "        for repr, label in reps:\n",
    "            if i % every == 0:\n",
    "                test_error = test_model_fast(model.fc, test_reps, test_loader.dataset, device)\n",
    "                losses.append(running_loss)\n",
    "                errors.append(test_error)\n",
    "                iters_.append(i)\n",
    "                running_loss = 0\n",
    "\n",
    "                if i == iterations:\n",
    "                    b1=True\n",
    "                    break\n",
    "\n",
    "            labels = nn.functional.one_hot(label, num_classes=24).float()\n",
    "            inputs, labels = repr.to(device), labels.to(device)\n",
    "\n",
    "            optimizer.zero_grad()\n",
    "\n",
    "            outputs = model.fc(inputs)\n",
    "            loss = criterion(outputs, labels)\n",
    "            loss.backward()\n",
    "            optimizer.step()\n",
    "\n",
    "            running_loss += loss.item()\n",
    "\n",
    "            i += 1\n",
    "\n",
    "        if i == iterations and b1:\n",
    "            break\n",
    "    losses, errors, iters_ = np.array(losses), np.array(errors), np.array(iters_)\n",
    "\n",
    "    return (losses, errors, iters_)"
   ]
  },
  {
   "cell_type": "code",
   "execution_count": 13,
   "metadata": {},
   "outputs": [],
   "source": [
    "losses, errors, iters = linear_eval_new(3_000, model.backbone, train_loader_ft, test_loader_ft, device)"
   ]
  },
  {
   "cell_type": "code",
   "execution_count": 14,
   "metadata": {},
   "outputs": [
    {
     "data": {
      "text/plain": [
       "[<matplotlib.lines.Line2D at 0x7f2df5caeeb0>]"
      ]
     },
     "execution_count": 14,
     "metadata": {},
     "output_type": "execute_result"
    },
    {
     "data": {
      "image/png": "[encoded data removed]",
      "text/plain": [
       "<Figure size 640x480 with 1 Axes>"
      ]
     },
     "metadata": {},
     "output_type": "display_data"
    }
   ],
   "source": [
    "plt.plot(errors)"
   ]
  }
 ],
 "metadata": {
  "kernelspec": {
   "display_name": "Python 3.9.13 ('base')",
   "language": "python",
   "name": "python3"
  },
  "language_info": {
   "codemirror_mode": {
    "name": "ipython",
    "version": 3
   },
   "file_extension": ".py",
   "mimetype": "text/x-python",
   "name": "python",
   "nbconvert_exporter": "python",
   "pygments_lexer": "ipython3",
   "version": "3.9.13"
  },
  "orig_nbformat": 4,
  "vscode": {
   "interpreter": {
    "hash": "5af30e9e16ef45cf56fe7212a84c27a65c36d6841edf0bd9661d40f4090c043c"
   }
  }
 },
 "nbformat": 4,
 "nbformat_minor": 2
}
