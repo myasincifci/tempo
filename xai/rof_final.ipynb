{
 "cells": [
  {
   "cell_type": "code",
   "execution_count": 1,
   "metadata": {},
   "outputs": [],
   "source": [
    "import os\n",
    "\n",
    "import torch\n",
    "from tempo.models import NewTempoLinear\n",
    "import matplotlib.pyplot as plt\n",
    "from PIL import Image\n",
    "\n",
    "from torchvision.transforms import Compose, Resize, ToTensor, InterpolationMode, Grayscale, GaussianBlur, Normalize\n",
    "from zennit.torchvision import ResNetCanonizer\n",
    "from zennit.composites import EpsilonPlusFlat\n",
    "from zennit.attribution import Gradient\n",
    "\n",
    "from zennit.image import imgify, imsave"
   ]
  },
  {
   "cell_type": "code",
   "execution_count": 2,
   "metadata": {},
   "outputs": [],
   "source": [
    "MODEL_NAME = \"vanilla.pth\""
   ]
  },
  {
   "cell_type": "code",
   "execution_count": 3,
   "metadata": {},
   "outputs": [],
   "source": [
    "# load models\n",
    "weights_tp = torch.load(f'../model_zoo/{MODEL_NAME}')\n",
    "model_tp = NewTempoLinear(out_features=24, weights=None,freeze_backbone=True)\n",
    "model_tp.load_state_dict(weights_tp)\n",
    "model_tp.requires_grad = True\n",
    "_ = model_tp.eval()\n",
    "\n",
    "weights_bl = torch.load('../model_zoo/baseline.pth')\n",
    "model_bl = NewTempoLinear(out_features=24, weights=None,freeze_backbone=True)\n",
    "model_bl.load_state_dict(weights_bl)\n",
    "model_bl.requires_grad = True\n",
    "_ = model_bl.eval()"
   ]
  },
  {
   "cell_type": "code",
   "execution_count": 4,
   "metadata": {},
   "outputs": [],
   "source": [
    "def get_relevance(model, data, num_classes):\n",
    "\n",
    "    with torch.no_grad():\n",
    "        pred = torch.argmax(model(data).flatten()).item()\n",
    "\n",
    "    canonizer = ResNetCanonizer()\n",
    "\n",
    "    # create a composite, specifying the canonizers\n",
    "    composite = EpsilonPlusFlat(canonizers=[canonizer])\n",
    "\n",
    "    # choose a target class for the attribution (label 437 is lighthouse)\n",
    "    target = torch.eye(num_classes)[[pred]]\n",
    "\n",
    "    # create the attributor, specifying model and composite\n",
    "    with Gradient(model=model, composite=composite) as attributor:\n",
    "        # compute the model output and attribution\n",
    "        output, attribution = attributor(data, target)\n",
    "\n",
    "    relevance = attribution.sum(1)\n",
    "\n",
    "    return pred, relevance"
   ]
  },
  {
   "cell_type": "code",
   "execution_count": 5,
   "metadata": {},
   "outputs": [],
   "source": [
    "images = {image[:8]: \"imgsFine/leftImg8bit/Test/\"+image for image in os.listdir(\"imgsFine/leftImg8bit/Test\")}\n",
    "masks = {mask[:8]: \"gtFine/Test/\"+mask for mask in os.listdir(\"gtFine/Test\") if mask.endswith(\"color.png\")}"
   ]
  },
  {
   "cell_type": "code",
   "execution_count": 6,
   "metadata": {},
   "outputs": [],
   "source": [
    "transform_img = Compose([\n",
    "    Resize(128, interpolation=InterpolationMode.NEAREST),\n",
    "    ToTensor(),\n",
    "])\n",
    "\n",
    "transform_msk = Compose([\n",
    "    Resize(128, interpolation=InterpolationMode.NEAREST),\n",
    "    Grayscale(),\n",
    "    ToTensor(),\n",
    "])"
   ]
  },
  {
   "cell_type": "code",
   "execution_count": 7,
   "metadata": {},
   "outputs": [],
   "source": [
    "def get_fat_mask(mask: Image) -> torch.FloatTensor:\n",
    "    # widen the mask\n",
    "    mask = transform_msk(mask)\n",
    "\n",
    "    mask_blur = GaussianBlur(kernel_size=3)(mask)\n",
    "    mask_blur = (mask_blur > 0).to(float)\n",
    "    mask_blur = GaussianBlur(kernel_size=3)(mask_blur)\n",
    "    mask_blur = (mask_blur > 0).to(float)\n",
    "\n",
    "    return mask_blur"
   ]
  },
  {
   "cell_type": "code",
   "execution_count": 8,
   "metadata": {},
   "outputs": [
    {
     "data": {
      "text/plain": [
       "<matplotlib.image.AxesImage at 0x7f915e767b50>"
      ]
     },
     "execution_count": 8,
     "metadata": {},
     "output_type": "execute_result"
    },
    {
     "data": {
      "image/png": "[encoded data removed]",
      "text/plain": [
       "<Figure size 640x480 with 1 Axes>"
      ]
     },
     "metadata": {},
     "output_type": "display_data"
    }
   ],
   "source": [
    "name1 = list(images.keys())[0]\n",
    "\n",
    "image = transform_img(Image.open(images[name1]))\n",
    "mask = get_fat_mask(Image.open(masks[name1]))\n",
    "\n",
    "plt.imshow(mask.permute(1,2,0))"
   ]
  },
  {
   "cell_type": "code",
   "execution_count": 9,
   "metadata": {},
   "outputs": [],
   "source": [
    "dataset = [(transform_img(Image.open(images[name])), get_fat_mask(Image.open(masks[name]))) for name in list(images.keys())]"
   ]
  },
  {
   "cell_type": "code",
   "execution_count": 10,
   "metadata": {},
   "outputs": [],
   "source": [
    "def rof(heatmap: torch.FloatTensor, mask: torch.FloatTensor) -> float:\n",
    "    heat_total = heatmap.sum().item()\n",
    "    heat_inside = (heatmap * mask).sum().item()\n",
    "    \n",
    "    return heat_inside / heat_total"
   ]
  },
  {
   "cell_type": "code",
   "execution_count": 11,
   "metadata": {},
   "outputs": [
    {
     "name": "stdout",
     "output_type": "stream",
     "text": [
      "Tempo: 0.7310643676631893, Baseline: 0.6538211564856075\n",
      "Tempo: 0.7330982465051845, Baseline: 0.6004862648435708\n",
      "Tempo: 0.7095254124845454, Baseline: 0.6224232602351775\n",
      "Tempo: 0.6711422495583182, Baseline: 0.6401419504550205\n",
      "Tempo: 0.7811425089061296, Baseline: 0.643317880517269\n",
      "Tempo: 0.7165129279365784, Baseline: 0.6428706431471269\n",
      "Tempo: 0.7638038151765815, Baseline: 0.6851929580778142\n",
      "Tempo: 0.6947636900565572, Baseline: 0.545822104039594\n",
      "Tempo: 0.7639014344575629, Baseline: 0.7247159878145255\n",
      "Tempo: 0.7459748995106995, Baseline: 0.6320593829560376\n",
      "Tempo: 0.7593232581104572, Baseline: 0.6429396042306966\n",
      "Tempo: 0.7999292356196809, Baseline: 0.6589728701728628\n",
      "Tempo: 0.7351277195817723, Baseline: 0.647914192274921\n",
      "Tempo: 0.7911635548672756, Baseline: 0.6711955485872786\n",
      "Tempo: 0.8289141469109743, Baseline: 0.6596835484934062\n",
      "Tempo: 0.7470525684869768, Baseline: 0.6674330387547781\n",
      "Tempo: 0.8495459675479227, Baseline: 0.749068905804232\n",
      "Tempo: 0.8282129570269651, Baseline: 0.7605298977679246\n",
      "Tempo: 0.71568207270325, Baseline: 0.6455587263360156\n",
      "Tempo: 0.7068264439410513, Baseline: 0.6157288997755459\n",
      "Tempo: 0.7554501212809768, Baseline: 0.6412919836891248\n",
      "Tempo: 0.7657519167491281, Baseline: 0.6912619998161892\n",
      "Tempo: 0.6879758435691746, Baseline: 0.5810763770113871\n",
      "Tempo: 0.7137227368694407, Baseline: 0.6294454246642529\n",
      "Tempo: 0.726447358649018, Baseline: 0.6507193942151842\n",
      "Tempo: 0.7466272108376613, Baseline: 0.6508696419740904\n",
      "Tempo: 0.7326221114325325, Baseline: 0.6553809661416584\n",
      "Tempo: 0.7651489395727943, Baseline: 0.6773203177984697\n",
      "Tempo: 0.7573201071263255, Baseline: 0.6760992281187153\n",
      "Tempo: 0.7067942743126964, Baseline: 0.6164416166238382\n",
      "Tempo: 0.8337661827456947, Baseline: 0.7220339998953244\n",
      "Tempo: 0.7778381925604759, Baseline: 0.6765387380897044\n",
      "Tempo: 0.7551116405573316, Baseline: 0.6875121215772849\n",
      "Tempo: 0.6708535977097556, Baseline: 0.596125229710621\n",
      "Tempo: 0.6934008382414004, Baseline: 0.5979079611577705\n",
      "Tempo: 0.8422021143765237, Baseline: 0.7261748959352544\n",
      "Tempo: 0.7082888027366393, Baseline: 0.5984278747382878\n",
      "Tempo: 0.6798855716021809, Baseline: 0.6089728099295912\n",
      "Tempo: 0.7253410456571984, Baseline: 0.647193850055431\n",
      "Tempo: 0.6832903167527438, Baseline: 0.689856562296064\n",
      "Tempo: 0.756877530568303, Baseline: 0.6603015013710023\n",
      "Tempo: 0.7166084305453907, Baseline: 0.676848446924861\n",
      "Tempo: 0.767443812979651, Baseline: 0.7298506383245649\n",
      "Tempo: 0.7056803877095956, Baseline: 0.6299732921473746\n",
      "Tempo: 0.7505738145424966, Baseline: 0.6555243411123465\n",
      "Tempo: 0.8396637573901815, Baseline: 0.6907773857184933\n",
      "Tempo: 0.7390211646276659, Baseline: 0.6480627022254938\n",
      "Tempo: 0.7709989746226652, Baseline: 0.6868135436936541\n",
      "Tempo: 0.731437608681064, Baseline: 0.6444947116574888\n",
      "Tempo: 0.8094715646105329, Baseline: 0.686602941427141\n",
      "Tempo: 0.8010179328180406, Baseline: 0.665806704027167\n",
      "Tempo: 0.7859673523130049, Baseline: 0.678902837250274\n",
      "Tempo: 0.8438817218062458, Baseline: 0.6652177391628209\n",
      "Tempo: 0.7408525285645197, Baseline: 0.7106042047442916\n",
      "Tempo: 0.8242406947654923, Baseline: 0.6580144388308944\n",
      "Tempo: 0.7231782421436062, Baseline: 0.6564625425166195\n",
      "Tempo: 0.7627602165840148, Baseline: 0.6898450768003289\n",
      "Tempo: 0.7175091610975745, Baseline: 0.6495983307365083\n",
      "Tempo: 0.7575351473158131, Baseline: 0.6348752407244148\n",
      "Tempo: 0.8423365879262119, Baseline: 0.7623010686020167\n",
      "Tempo: 0.7914961961496243, Baseline: 0.6946615770808471\n",
      "Tempo: 0.7732474830302305, Baseline: 0.7273174974430854\n",
      "Tempo: 0.7937954954273675, Baseline: 0.6664005928776109\n",
      "Tempo: 0.8313494696557171, Baseline: 0.6302589560772436\n",
      "Tempo: 0.8257045635233501, Baseline: 0.7228351963721029\n",
      "Tempo: 0.7195869835202205, Baseline: 0.5403080034424507\n",
      "Tempo: 0.7951762530130629, Baseline: 0.6488249023794825\n",
      "Tempo: 0.7121262269887225, Baseline: 0.6320453517745355\n",
      "Tempo: 0.8235115133536254, Baseline: 0.7225212544940358\n",
      "Tempo: 0.684456493738287, Baseline: 0.6573881619629802\n",
      "Tempo: 0.7030027400889831, Baseline: 0.6736050247844249\n",
      "Tempo: 0.7447720504212613, Baseline: 0.6411271112957196\n",
      "Tempo: 0.8766152503519824, Baseline: 0.73296621279142\n",
      "Tempo: 0.753201889268747, Baseline: 0.7193138456710557\n",
      "Tempo: 0.7863932914503095, Baseline: 0.6355495331836578\n",
      "Tempo: 0.7844743520795321, Baseline: 0.6661071932711986\n",
      "Tempo: 0.7615548405638983, Baseline: 0.6687543376879281\n",
      "Tempo: 0.7248015644295364, Baseline: 0.600027564210149\n",
      "Tempo: 0.6864116724430511, Baseline: 0.6548220066501038\n",
      "Tempo: 0.7872788839228195, Baseline: 0.6135147113997417\n",
      "Tempo: 0.7801646754975696, Baseline: 0.6838855439958318\n",
      "Tempo: 0.7805435546369341, Baseline: 0.6894651922638021\n",
      "Tempo: 0.8235147825996906, Baseline: 0.6559407098925684\n",
      "Tempo: 0.745441910716783, Baseline: 0.6423348976177642\n",
      "Tempo: 0.6471340384802078, Baseline: 0.5806174136231069\n",
      "Tempo: 0.7997014344010108, Baseline: 0.6498097653596024\n",
      "Tempo: 0.7116996102724049, Baseline: 0.6654992446122932\n",
      "Tempo: 0.7879037167576787, Baseline: 0.7211914612325112\n",
      "Tempo: 0.7265627253253385, Baseline: 0.6733871315050415\n",
      "Tempo: 0.7323331483321307, Baseline: 0.6578501971530002\n",
      "Tempo: 0.7618113978032135, Baseline: 0.6262929003434882\n",
      "Tempo: 0.7100354325075747, Baseline: 0.6744998849311562\n",
      "Tempo: 0.7733678542425994, Baseline: 0.6177132692353238\n",
      "Tempo: 0.7995531152913355, Baseline: 0.6800854487665626\n",
      "Tempo: 0.7619439822136047, Baseline: 0.71107697781805\n",
      "Tempo: 0.8277618137454497, Baseline: 0.6758014247606724\n",
      "Tempo: 0.7026512225669583, Baseline: 0.6252605255518772\n",
      "Tempo: 0.7574011678851844, Baseline: 0.6603792890760565\n",
      "Tempo: 0.7619275938176722, Baseline: 0.6150252015590373\n",
      "Tempo: 0.7577474769489596, Baseline: 0.6748503330345439\n",
      "Tempo: 0.7082655711692852, Baseline: 0.6443858263372618\n",
      "Tempo: 0.8212235695629285, Baseline: 0.725610029233358\n",
      "Tempo: 0.8122748712853461, Baseline: 0.659127875634526\n",
      "Tempo: 0.7469323252526302, Baseline: 0.6334924829233411\n",
      "Tempo: 0.8150815974086363, Baseline: 0.6791445483928513\n",
      "Tempo: 0.7287146630119099, Baseline: 0.651772043163188\n",
      "Tempo: 0.7606532615630297, Baseline: 0.70738944633\n",
      "Tempo: 0.7553984988553123, Baseline: 0.6598582333199354\n",
      "Tempo: 0.8296791177991539, Baseline: 0.7717861512720123\n",
      "Tempo: 0.8536313442194773, Baseline: 0.7744786328871609\n",
      "Tempo: 0.7245446535475348, Baseline: 0.6571804778106488\n",
      "Tempo: 0.7404924651301463, Baseline: 0.6397934241755306\n",
      "Tempo: 0.7495107937935411, Baseline: 0.6845097445714151\n",
      "Tempo: 0.718825127134423, Baseline: 0.6188986856022944\n",
      "Tempo: 0.7767688776212567, Baseline: 0.7080954851290373\n",
      "Tempo: 0.702680260551765, Baseline: 0.521073540487576\n",
      "Tempo: 0.697890755425866, Baseline: 0.64649684657334\n",
      "Tempo: 0.6678001765503637, Baseline: 0.5984538191519294\n",
      "Tempo: 0.7556897876618518, Baseline: 0.700662849479714\n",
      "Tempo: 0.7340035408778486, Baseline: 0.677952627240025\n"
     ]
    },
    {
     "data": {
      "text/plain": [
       "(tensor(0.7566), tensor(0.6617))"
      ]
     },
     "execution_count": 11,
     "metadata": {},
     "output_type": "execute_result"
    }
   ],
   "source": [
    "rofs_tp = []\n",
    "rofs_bl = []\n",
    "\n",
    "for img, msk in dataset:\n",
    "    data = Normalize((0.485, 0.456, 0.406), (0.229, 0.224, 0.225))(img)[None]\n",
    "    _, heatmap_tp = get_relevance(model_tp, data, num_classes=24)\n",
    "    _, heatmap_bl = get_relevance(model_bl, data, num_classes=24)\n",
    "\n",
    "    rof_tp = rof(heatmap_tp, msk)\n",
    "    rof_bl = rof(heatmap_bl, msk)\n",
    "\n",
    "    rofs_tp.append(rof_tp)\n",
    "    rofs_bl.append(rof_bl)\n",
    "\n",
    "    print(f\"Tempo: {rof(heatmap_tp, msk)}, Baseline: {rof(heatmap_bl, msk)}\")\n",
    "\n",
    "torch.tensor(rofs_tp).mean(), torch.tensor(rofs_bl).mean() "
   ]
  }
 ],
 "metadata": {
  "kernelspec": {
   "display_name": "Python 3.9.13 ('base')",
   "language": "python",
   "name": "python3"
  },
  "language_info": {
   "codemirror_mode": {
    "name": "ipython",
    "version": 3
   },
   "file_extension": ".py",
   "mimetype": "text/x-python",
   "name": "python",
   "nbconvert_exporter": "python",
   "pygments_lexer": "ipython3",
   "version": "3.9.13"
  },
  "orig_nbformat": 4,
  "vscode": {
   "interpreter": {
    "hash": "5af30e9e16ef45cf56fe7212a84c27a65c36d6841edf0bd9661d40f4090c043c"
   }
  }
 },
 "nbformat": 4,
 "nbformat_minor": 2
}
